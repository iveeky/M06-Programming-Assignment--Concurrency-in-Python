{
 "cells": [
  {
   "cell_type": "code",
   "execution_count": 3,
   "id": "593385f0",
   "metadata": {},
   "outputs": [],
   "source": [
    "from datetime import date\n",
    "now = date.today()\n",
    "fout = open('today.txt','w')\n",
    "print(now, file=fout)\n",
    "fout.close()"
   ]
  },
  {
   "cell_type": "code",
   "execution_count": 13,
   "id": "7d89cb9d",
   "metadata": {},
   "outputs": [],
   "source": [
    "fin = open ('today.txt','r')\n",
    "today_string = fin.read()\n",
    "fin.close()"
   ]
  },
  {
   "cell_type": "code",
   "execution_count": 12,
   "id": "aa67ae5f",
   "metadata": {},
   "outputs": [
    {
     "name": "stdout",
     "output_type": "stream",
     "text": [
      "2023-05-14\n",
      "\n"
     ]
    }
   ],
   "source": [
    "print(today_string)"
   ]
  },
  {
   "cell_type": "code",
   "execution_count": 24,
   "id": "5543e27c",
   "metadata": {},
   "outputs": [
    {
     "name": "stdout",
     "output_type": "stream",
     "text": [
      "2023-05-14 18:51:07.540951\n",
      "2023-05-14 18:51:07.819725\n",
      "2023-05-14 18:51:08.606008\n"
     ]
    }
   ],
   "source": [
    "import multiprocessing\n",
    "from datetime import datetime\n",
    "import random\n",
    "\n",
    "def todays_time():\n",
    "    import time\n",
    "    now = datetime.now()\n",
    "    print(now)\n",
    "    time.sleep(random.random())\n",
    "\n",
    "\n",
    "if __name__ == '__main__':\n",
    "    process1 = multiprocessing.Process(target=todays_time())\n",
    "    process2 = multiprocessing.Process(target=todays_time())\n",
    "    process3 = multiprocessing.Process(target=todays_time())\n",
    "    process1.start()\n",
    "    process2.start()\n",
    "    process3.start()"
   ]
  },
  {
   "cell_type": "code",
   "execution_count": null,
   "id": "7a6e4af5",
   "metadata": {},
   "outputs": [],
   "source": []
  },
  {
   "cell_type": "code",
   "execution_count": null,
   "id": "d7ad4f4a",
   "metadata": {},
   "outputs": [],
   "source": []
  }
 ],
 "metadata": {
  "kernelspec": {
   "display_name": "Python 3 (ipykernel)",
   "language": "python",
   "name": "python3"
  },
  "language_info": {
   "codemirror_mode": {
    "name": "ipython",
    "version": 3
   },
   "file_extension": ".py",
   "mimetype": "text/x-python",
   "name": "python",
   "nbconvert_exporter": "python",
   "pygments_lexer": "ipython3",
   "version": "3.10.9"
  }
 },
 "nbformat": 4,
 "nbformat_minor": 5
}
